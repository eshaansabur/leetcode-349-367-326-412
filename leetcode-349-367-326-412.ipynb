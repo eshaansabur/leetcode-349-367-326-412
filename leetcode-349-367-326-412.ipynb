{
 "cells": [
  {
   "cell_type": "code",
   "execution_count": 1,
   "id": "6d38468a-89b4-4dd8-b639-0448bdf53401",
   "metadata": {},
   "outputs": [
    {
     "data": {
      "text/plain": [
       "[4, 9]"
      ]
     },
     "execution_count": 1,
     "metadata": {},
     "output_type": "execute_result"
    }
   ],
   "source": [
    "nums1 = [4,9,5]\n",
    "nums2 = [9,4,9,8,4]\n",
    "def intersection(nums1, nums2):\n",
    "    all_common= []\n",
    "    for n1 in nums1:\n",
    "        if n1 in nums2:\n",
    "            if n1 not in all_common:\n",
    "                all_common.append(n1)\n",
    "\n",
    "    return all_common\n",
    "\n",
    "intersection(nums1, nums2)"
   ]
  },
  {
   "cell_type": "code",
   "execution_count": 5,
   "id": "86e889ba-949b-4234-a194-1c1f09335df7",
   "metadata": {},
   "outputs": [
    {
     "data": {
      "text/plain": [
       "True"
      ]
     },
     "execution_count": 5,
     "metadata": {},
     "output_type": "execute_result"
    }
   ],
   "source": [
    "num=9\n",
    "def isPerfectSquare(num):\n",
    "    sqr_root= num ** 0.5\n",
    "    sqr_root_str= str(sqr_root)\n",
    "    splitter= sqr_root_str.split(\".\")\n",
    "    if splitter[1] == '0':\n",
    "        return True\n",
    "    else:\n",
    "        return False\n",
    "\n",
    "isPerfectSquare(num)"
   ]
  },
  {
   "cell_type": "code",
   "execution_count": 7,
   "id": "b8f4ea4f-7746-4137-9ea2-a45e85438d5a",
   "metadata": {},
   "outputs": [
    {
     "data": {
      "text/plain": [
       "True"
      ]
     },
     "execution_count": 7,
     "metadata": {},
     "output_type": "execute_result"
    }
   ],
   "source": [
    "n= 27\n",
    "def isPowerOfThree(n):\n",
    "    for i in range(-128, 128):\n",
    "        num = 3 ** i\n",
    "        if num== n:\n",
    "            return True\n",
    "        \n",
    "    return False\n",
    "\n",
    "isPowerOfThree(n)"
   ]
  },
  {
   "cell_type": "code",
   "execution_count": 10,
   "id": "bc7e35fe-bfc6-4279-b412-d80d7d23dadc",
   "metadata": {},
   "outputs": [
    {
     "data": {
      "text/plain": [
       "['1',\n",
       " '2',\n",
       " 'Fizz',\n",
       " '4',\n",
       " 'Buzz',\n",
       " 'Fizz',\n",
       " '7',\n",
       " '8',\n",
       " 'Fizz',\n",
       " 'Buzz',\n",
       " '11',\n",
       " 'Fizz',\n",
       " '13',\n",
       " '14',\n",
       " 'FizzBuzz',\n",
       " '16',\n",
       " '17',\n",
       " 'Fizz',\n",
       " '19',\n",
       " 'Buzz',\n",
       " 'Fizz',\n",
       " '22',\n",
       " '23',\n",
       " 'Fizz',\n",
       " 'Buzz',\n",
       " '26',\n",
       " 'Fizz']"
      ]
     },
     "execution_count": 10,
     "metadata": {},
     "output_type": "execute_result"
    }
   ],
   "source": [
    "def fizzBuzz(n):\n",
    "    buzz_list= []\n",
    "    for i in range(1, n+1):\n",
    "        if i%3==0 and i%5==0:\n",
    "            buzz_list.append(\"FizzBuzz\")\n",
    "        elif i%5==0:\n",
    "            buzz_list.append(\"Buzz\")\n",
    "        elif i%3==0:\n",
    "            buzz_list.append(\"Fizz\")\n",
    "        else:\n",
    "            buzz_list.append(str(i))\n",
    "    return buzz_list\n",
    "\n",
    "fizzBuzz(n)"
   ]
  },
  {
   "cell_type": "code",
   "execution_count": null,
   "id": "8fe5dd62-52d4-4bd2-93b2-6c4144f01bcb",
   "metadata": {},
   "outputs": [],
   "source": []
  }
 ],
 "metadata": {
  "kernelspec": {
   "display_name": "Python 3 (ipykernel)",
   "language": "python",
   "name": "python3"
  },
  "language_info": {
   "codemirror_mode": {
    "name": "ipython",
    "version": 3
   },
   "file_extension": ".py",
   "mimetype": "text/x-python",
   "name": "python",
   "nbconvert_exporter": "python",
   "pygments_lexer": "ipython3",
   "version": "3.11.7"
  }
 },
 "nbformat": 4,
 "nbformat_minor": 5
}
